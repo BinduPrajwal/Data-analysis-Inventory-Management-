{
 "cells": [
  {
   "cell_type": "code",
   "execution_count": 1,
   "id": "cd4b0081",
   "metadata": {},
   "outputs": [],
   "source": [
    "import pandas as pd\n",
    "import numpy as np\n",
    "import matplotlib.pyplot as plt\n",
    "import calendar\n",
    "import seaborn as sns"
   ]
  },
  {
   "cell_type": "code",
   "execution_count": 2,
   "id": "b0759540",
   "metadata": {},
   "outputs": [
    {
     "data": {
      "text/html": [
       "<div>\n",
       "<style scoped>\n",
       "    .dataframe tbody tr th:only-of-type {\n",
       "        vertical-align: middle;\n",
       "    }\n",
       "\n",
       "    .dataframe tbody tr th {\n",
       "        vertical-align: top;\n",
       "    }\n",
       "\n",
       "    .dataframe thead th {\n",
       "        text-align: right;\n",
       "    }\n",
       "</style>\n",
       "<table border=\"1\" class=\"dataframe\">\n",
       "  <thead>\n",
       "    <tr style=\"text-align: right;\">\n",
       "      <th></th>\n",
       "      <th>Item Number</th>\n",
       "      <th>Date</th>\n",
       "      <th>Inventory</th>\n",
       "    </tr>\n",
       "  </thead>\n",
       "  <tbody>\n",
       "    <tr>\n",
       "      <th>0</th>\n",
       "      <td>064-01-1347</td>\n",
       "      <td>2023-06-17</td>\n",
       "      <td>3561</td>\n",
       "    </tr>\n",
       "    <tr>\n",
       "      <th>1</th>\n",
       "      <td>064-01-1361</td>\n",
       "      <td>2023-06-17</td>\n",
       "      <td>4035</td>\n",
       "    </tr>\n",
       "    <tr>\n",
       "      <th>2</th>\n",
       "      <td>064-01-1375</td>\n",
       "      <td>2023-06-17</td>\n",
       "      <td>2684</td>\n",
       "    </tr>\n",
       "    <tr>\n",
       "      <th>3</th>\n",
       "      <td>064-01-1385</td>\n",
       "      <td>2023-06-17</td>\n",
       "      <td>5136</td>\n",
       "    </tr>\n",
       "    <tr>\n",
       "      <th>4</th>\n",
       "      <td>064-01-1399</td>\n",
       "      <td>2023-06-17</td>\n",
       "      <td>6399</td>\n",
       "    </tr>\n",
       "    <tr>\n",
       "      <th>...</th>\n",
       "      <td>...</td>\n",
       "      <td>...</td>\n",
       "      <td>...</td>\n",
       "    </tr>\n",
       "    <tr>\n",
       "      <th>351</th>\n",
       "      <td>064-18-9909</td>\n",
       "      <td>2023-06-17</td>\n",
       "      <td>12</td>\n",
       "    </tr>\n",
       "    <tr>\n",
       "      <th>352</th>\n",
       "      <td>064-18-9962</td>\n",
       "      <td>2023-06-17</td>\n",
       "      <td>19</td>\n",
       "    </tr>\n",
       "    <tr>\n",
       "      <th>353</th>\n",
       "      <td>064-18-0790</td>\n",
       "      <td>2023-06-17</td>\n",
       "      <td>5</td>\n",
       "    </tr>\n",
       "    <tr>\n",
       "      <th>354</th>\n",
       "      <td>064-18-3316</td>\n",
       "      <td>2023-06-17</td>\n",
       "      <td>7354</td>\n",
       "    </tr>\n",
       "    <tr>\n",
       "      <th>355</th>\n",
       "      <td>064-18-9667</td>\n",
       "      <td>2023-06-17</td>\n",
       "      <td>7029</td>\n",
       "    </tr>\n",
       "  </tbody>\n",
       "</table>\n",
       "<p>356 rows × 3 columns</p>\n",
       "</div>"
      ],
      "text/plain": [
       "     Item Number       Date  Inventory\n",
       "0    064-01-1347 2023-06-17       3561\n",
       "1    064-01-1361 2023-06-17       4035\n",
       "2    064-01-1375 2023-06-17       2684\n",
       "3    064-01-1385 2023-06-17       5136\n",
       "4    064-01-1399 2023-06-17       6399\n",
       "..           ...        ...        ...\n",
       "351  064-18-9909 2023-06-17         12\n",
       "352  064-18-9962 2023-06-17         19\n",
       "353  064-18-0790 2023-06-17          5\n",
       "354  064-18-3316 2023-06-17       7354\n",
       "355  064-18-9667 2023-06-17       7029\n",
       "\n",
       "[356 rows x 3 columns]"
      ]
     },
     "execution_count": 2,
     "metadata": {},
     "output_type": "execute_result"
    }
   ],
   "source": [
    "#Read the data set\n",
    "data1=pd.read_excel(\"Inventory Dataset.xlsx\")\n",
    "data1"
   ]
  },
  {
   "cell_type": "code",
   "execution_count": 3,
   "id": "bf4d54e3",
   "metadata": {},
   "outputs": [
    {
     "name": "stdout",
     "output_type": "stream",
     "text": [
      "The Inventory dataset contains 356 rows and 3 columns.\n"
     ]
    }
   ],
   "source": [
    "print(\"The Inventory dataset contains {} rows and {} columns.\".format(data1.shape[0],data1.shape[1]))"
   ]
  },
  {
   "cell_type": "code",
   "execution_count": 4,
   "id": "4b447698",
   "metadata": {},
   "outputs": [],
   "source": [
    "#Renaming Columns\n",
    "data1.rename(columns={'Item Number': 'item_number', 'Date': 'date','Inventory':'inventory'}, inplace=True) "
   ]
  },
  {
   "cell_type": "code",
   "execution_count": 5,
   "id": "65558880",
   "metadata": {},
   "outputs": [
    {
     "data": {
      "text/plain": [
       "356"
      ]
     },
     "execution_count": 5,
     "metadata": {},
     "output_type": "execute_result"
    }
   ],
   "source": [
    "len(data1['item_number'].unique())"
   ]
  },
  {
   "cell_type": "code",
   "execution_count": 6,
   "id": "675925c1",
   "metadata": {},
   "outputs": [
    {
     "data": {
      "text/html": [
       "<div>\n",
       "<style scoped>\n",
       "    .dataframe tbody tr th:only-of-type {\n",
       "        vertical-align: middle;\n",
       "    }\n",
       "\n",
       "    .dataframe tbody tr th {\n",
       "        vertical-align: top;\n",
       "    }\n",
       "\n",
       "    .dataframe thead th {\n",
       "        text-align: right;\n",
       "    }\n",
       "</style>\n",
       "<table border=\"1\" class=\"dataframe\">\n",
       "  <thead>\n",
       "    <tr style=\"text-align: right;\">\n",
       "      <th></th>\n",
       "      <th>Item Number</th>\n",
       "      <th>Inventory Receive</th>\n",
       "      <th>Total Item Qty</th>\n",
       "    </tr>\n",
       "  </thead>\n",
       "  <tbody>\n",
       "    <tr>\n",
       "      <th>0</th>\n",
       "      <td>064-13-0002</td>\n",
       "      <td>2023-07-07</td>\n",
       "      <td>700</td>\n",
       "    </tr>\n",
       "    <tr>\n",
       "      <th>1</th>\n",
       "      <td>064-13-0338</td>\n",
       "      <td>2023-07-07</td>\n",
       "      <td>1700</td>\n",
       "    </tr>\n",
       "    <tr>\n",
       "      <th>2</th>\n",
       "      <td>064-13-0340</td>\n",
       "      <td>2023-07-07</td>\n",
       "      <td>1000</td>\n",
       "    </tr>\n",
       "    <tr>\n",
       "      <th>3</th>\n",
       "      <td>064-13-0353</td>\n",
       "      <td>2023-07-07</td>\n",
       "      <td>1900</td>\n",
       "    </tr>\n",
       "    <tr>\n",
       "      <th>4</th>\n",
       "      <td>064-13-0416</td>\n",
       "      <td>2023-07-07</td>\n",
       "      <td>1000</td>\n",
       "    </tr>\n",
       "    <tr>\n",
       "      <th>...</th>\n",
       "      <td>...</td>\n",
       "      <td>...</td>\n",
       "      <td>...</td>\n",
       "    </tr>\n",
       "    <tr>\n",
       "      <th>1034</th>\n",
       "      <td>064-09-3787</td>\n",
       "      <td>2023-07-07</td>\n",
       "      <td>2088</td>\n",
       "    </tr>\n",
       "    <tr>\n",
       "      <th>1035</th>\n",
       "      <td>064-09-5287</td>\n",
       "      <td>2023-07-07</td>\n",
       "      <td>1388</td>\n",
       "    </tr>\n",
       "    <tr>\n",
       "      <th>1036</th>\n",
       "      <td>064-09-7924</td>\n",
       "      <td>2023-07-07</td>\n",
       "      <td>1632</td>\n",
       "    </tr>\n",
       "    <tr>\n",
       "      <th>1037</th>\n",
       "      <td>064-09-9076</td>\n",
       "      <td>2023-07-07</td>\n",
       "      <td>1708</td>\n",
       "    </tr>\n",
       "    <tr>\n",
       "      <th>1038</th>\n",
       "      <td>064-09-9115</td>\n",
       "      <td>2023-07-07</td>\n",
       "      <td>1920</td>\n",
       "    </tr>\n",
       "  </tbody>\n",
       "</table>\n",
       "<p>1039 rows × 3 columns</p>\n",
       "</div>"
      ],
      "text/plain": [
       "      Item Number Inventory Receive  Total Item Qty\n",
       "0     064-13-0002        2023-07-07             700\n",
       "1     064-13-0338        2023-07-07            1700\n",
       "2     064-13-0340        2023-07-07            1000\n",
       "3     064-13-0353        2023-07-07            1900\n",
       "4     064-13-0416        2023-07-07            1000\n",
       "...           ...               ...             ...\n",
       "1034  064-09-3787        2023-07-07            2088\n",
       "1035  064-09-5287        2023-07-07            1388\n",
       "1036  064-09-7924        2023-07-07            1632\n",
       "1037  064-09-9076        2023-07-07            1708\n",
       "1038  064-09-9115        2023-07-07            1920\n",
       "\n",
       "[1039 rows x 3 columns]"
      ]
     },
     "execution_count": 6,
     "metadata": {},
     "output_type": "execute_result"
    }
   ],
   "source": [
    "data2=pd.read_excel(\"New Inventory.xlsx\")\n",
    "data2"
   ]
  },
  {
   "cell_type": "code",
   "execution_count": 7,
   "id": "b680a410",
   "metadata": {},
   "outputs": [
    {
     "name": "stdout",
     "output_type": "stream",
     "text": [
      "The New inventory dataset contains 1039 rows and 3 columns.\n"
     ]
    }
   ],
   "source": [
    "print(\"The New inventory dataset contains {} rows and {} columns.\".format(data2.shape[0],data2.shape[1]))"
   ]
  },
  {
   "cell_type": "code",
   "execution_count": 8,
   "id": "12726c85",
   "metadata": {},
   "outputs": [],
   "source": [
    "#Renaming Columns\n",
    "data2.rename(columns={'Item Number': 'item_number', 'Inventory Receive': 'receive_date','Total Item Qty':'total_quantity'}, inplace=True) "
   ]
  },
  {
   "cell_type": "code",
   "execution_count": 9,
   "id": "28a8695d",
   "metadata": {},
   "outputs": [
    {
     "data": {
      "text/plain": [
       "213"
      ]
     },
     "execution_count": 9,
     "metadata": {},
     "output_type": "execute_result"
    }
   ],
   "source": [
    "len(data2['item_number'].unique())"
   ]
  },
  {
   "cell_type": "code",
   "execution_count": 10,
   "id": "35717a3a",
   "metadata": {},
   "outputs": [
    {
     "data": {
      "text/plain": [
       "23"
      ]
     },
     "execution_count": 10,
     "metadata": {},
     "output_type": "execute_result"
    }
   ],
   "source": [
    "len(data2['receive_date'].unique())"
   ]
  },
  {
   "cell_type": "raw",
   "id": "f3758c44",
   "metadata": {},
   "source": [
    "The inventory data set contains 356 unique item numbers and the number of items \n",
    "in that inventory. The new inventory dataset contains 1039 rows of numbers\n",
    "showing how many new items were added to inventory and when they arrived. \n",
    "The new inventory dataset contains 213 unique items, which means that out of 356 items,\n",
    "only 213 items were received on 23 different unique dates."
   ]
  },
  {
   "cell_type": "markdown",
   "id": "dc52a972",
   "metadata": {},
   "source": [
    "# Exploratory data analysis"
   ]
  },
  {
   "cell_type": "code",
   "execution_count": 11,
   "id": "a1dd24af",
   "metadata": {},
   "outputs": [
    {
     "data": {
      "text/plain": [
       "(356, 3)"
      ]
     },
     "execution_count": 11,
     "metadata": {},
     "output_type": "execute_result"
    }
   ],
   "source": [
    "data1.shape"
   ]
  },
  {
   "cell_type": "code",
   "execution_count": 12,
   "id": "960cc6c2",
   "metadata": {},
   "outputs": [
    {
     "data": {
      "text/plain": [
       "(1039, 3)"
      ]
     },
     "execution_count": 12,
     "metadata": {},
     "output_type": "execute_result"
    }
   ],
   "source": [
    "data2.shape"
   ]
  },
  {
   "cell_type": "code",
   "execution_count": 13,
   "id": "50b48242",
   "metadata": {},
   "outputs": [
    {
     "data": {
      "text/html": [
       "<div>\n",
       "<style scoped>\n",
       "    .dataframe tbody tr th:only-of-type {\n",
       "        vertical-align: middle;\n",
       "    }\n",
       "\n",
       "    .dataframe tbody tr th {\n",
       "        vertical-align: top;\n",
       "    }\n",
       "\n",
       "    .dataframe thead th {\n",
       "        text-align: right;\n",
       "    }\n",
       "</style>\n",
       "<table border=\"1\" class=\"dataframe\">\n",
       "  <thead>\n",
       "    <tr style=\"text-align: right;\">\n",
       "      <th></th>\n",
       "      <th>inventory</th>\n",
       "    </tr>\n",
       "  </thead>\n",
       "  <tbody>\n",
       "    <tr>\n",
       "      <th>count</th>\n",
       "      <td>356.000000</td>\n",
       "    </tr>\n",
       "    <tr>\n",
       "      <th>mean</th>\n",
       "      <td>3898.971910</td>\n",
       "    </tr>\n",
       "    <tr>\n",
       "      <th>std</th>\n",
       "      <td>5325.313247</td>\n",
       "    </tr>\n",
       "    <tr>\n",
       "      <th>min</th>\n",
       "      <td>1.000000</td>\n",
       "    </tr>\n",
       "    <tr>\n",
       "      <th>25%</th>\n",
       "      <td>9.000000</td>\n",
       "    </tr>\n",
       "    <tr>\n",
       "      <th>50%</th>\n",
       "      <td>467.500000</td>\n",
       "    </tr>\n",
       "    <tr>\n",
       "      <th>75%</th>\n",
       "      <td>6819.000000</td>\n",
       "    </tr>\n",
       "    <tr>\n",
       "      <th>max</th>\n",
       "      <td>27104.000000</td>\n",
       "    </tr>\n",
       "  </tbody>\n",
       "</table>\n",
       "</div>"
      ],
      "text/plain": [
       "          inventory\n",
       "count    356.000000\n",
       "mean    3898.971910\n",
       "std     5325.313247\n",
       "min        1.000000\n",
       "25%        9.000000\n",
       "50%      467.500000\n",
       "75%     6819.000000\n",
       "max    27104.000000"
      ]
     },
     "execution_count": 13,
     "metadata": {},
     "output_type": "execute_result"
    }
   ],
   "source": [
    "data1.describe()"
   ]
  },
  {
   "cell_type": "code",
   "execution_count": 14,
   "id": "f46c23ec",
   "metadata": {},
   "outputs": [
    {
     "data": {
      "text/html": [
       "<div>\n",
       "<style scoped>\n",
       "    .dataframe tbody tr th:only-of-type {\n",
       "        vertical-align: middle;\n",
       "    }\n",
       "\n",
       "    .dataframe tbody tr th {\n",
       "        vertical-align: top;\n",
       "    }\n",
       "\n",
       "    .dataframe thead th {\n",
       "        text-align: right;\n",
       "    }\n",
       "</style>\n",
       "<table border=\"1\" class=\"dataframe\">\n",
       "  <thead>\n",
       "    <tr style=\"text-align: right;\">\n",
       "      <th></th>\n",
       "      <th>total_quantity</th>\n",
       "    </tr>\n",
       "  </thead>\n",
       "  <tbody>\n",
       "    <tr>\n",
       "      <th>count</th>\n",
       "      <td>1039.000000</td>\n",
       "    </tr>\n",
       "    <tr>\n",
       "      <th>mean</th>\n",
       "      <td>2393.439846</td>\n",
       "    </tr>\n",
       "    <tr>\n",
       "      <th>std</th>\n",
       "      <td>2513.943204</td>\n",
       "    </tr>\n",
       "    <tr>\n",
       "      <th>min</th>\n",
       "      <td>0.000000</td>\n",
       "    </tr>\n",
       "    <tr>\n",
       "      <th>25%</th>\n",
       "      <td>980.000000</td>\n",
       "    </tr>\n",
       "    <tr>\n",
       "      <th>50%</th>\n",
       "      <td>1664.000000</td>\n",
       "    </tr>\n",
       "    <tr>\n",
       "      <th>75%</th>\n",
       "      <td>2800.000000</td>\n",
       "    </tr>\n",
       "    <tr>\n",
       "      <th>max</th>\n",
       "      <td>23580.000000</td>\n",
       "    </tr>\n",
       "  </tbody>\n",
       "</table>\n",
       "</div>"
      ],
      "text/plain": [
       "       total_quantity\n",
       "count     1039.000000\n",
       "mean      2393.439846\n",
       "std       2513.943204\n",
       "min          0.000000\n",
       "25%        980.000000\n",
       "50%       1664.000000\n",
       "75%       2800.000000\n",
       "max      23580.000000"
      ]
     },
     "execution_count": 14,
     "metadata": {},
     "output_type": "execute_result"
    }
   ],
   "source": [
    "data2.describe()"
   ]
  },
  {
   "cell_type": "code",
   "execution_count": 15,
   "id": "f6b57819",
   "metadata": {},
   "outputs": [
    {
     "name": "stdout",
     "output_type": "stream",
     "text": [
      "<class 'pandas.core.frame.DataFrame'>\n",
      "RangeIndex: 356 entries, 0 to 355\n",
      "Data columns (total 3 columns):\n",
      " #   Column       Non-Null Count  Dtype         \n",
      "---  ------       --------------  -----         \n",
      " 0   item_number  356 non-null    object        \n",
      " 1   date         356 non-null    datetime64[ns]\n",
      " 2   inventory    356 non-null    int64         \n",
      "dtypes: datetime64[ns](1), int64(1), object(1)\n",
      "memory usage: 8.5+ KB\n"
     ]
    }
   ],
   "source": [
    "data1.info()"
   ]
  },
  {
   "cell_type": "code",
   "execution_count": 16,
   "id": "bd91bf8d",
   "metadata": {},
   "outputs": [
    {
     "name": "stdout",
     "output_type": "stream",
     "text": [
      "<class 'pandas.core.frame.DataFrame'>\n",
      "RangeIndex: 1039 entries, 0 to 1038\n",
      "Data columns (total 3 columns):\n",
      " #   Column          Non-Null Count  Dtype         \n",
      "---  ------          --------------  -----         \n",
      " 0   item_number     1039 non-null   object        \n",
      " 1   receive_date    1039 non-null   datetime64[ns]\n",
      " 2   total_quantity  1039 non-null   int64         \n",
      "dtypes: datetime64[ns](1), int64(1), object(1)\n",
      "memory usage: 24.5+ KB\n"
     ]
    }
   ],
   "source": [
    "data2.info()"
   ]
  },
  {
   "cell_type": "code",
   "execution_count": 17,
   "id": "f5f69e17",
   "metadata": {},
   "outputs": [
    {
     "data": {
      "text/plain": [
       "item_number    0\n",
       "date           0\n",
       "inventory      0\n",
       "dtype: int64"
      ]
     },
     "execution_count": 17,
     "metadata": {},
     "output_type": "execute_result"
    }
   ],
   "source": [
    "data1.isna().sum()"
   ]
  },
  {
   "cell_type": "code",
   "execution_count": 18,
   "id": "a8d0f850",
   "metadata": {},
   "outputs": [
    {
     "data": {
      "text/plain": [
       "item_number       0\n",
       "receive_date      0\n",
       "total_quantity    0\n",
       "dtype: int64"
      ]
     },
     "execution_count": 18,
     "metadata": {},
     "output_type": "execute_result"
    }
   ],
   "source": [
    "data2.isna().sum()"
   ]
  },
  {
   "cell_type": "code",
   "execution_count": 19,
   "id": "de315b2b",
   "metadata": {},
   "outputs": [
    {
     "data": {
      "text/plain": [
       "(356, 3)"
      ]
     },
     "execution_count": 19,
     "metadata": {},
     "output_type": "execute_result"
    }
   ],
   "source": [
    "# Drop duplicate rows\n",
    "data1.drop_duplicates(keep='last', inplace=True) \n",
    "data1.reset_index(drop = True, inplace = True)\n",
    "data1.shape"
   ]
  },
  {
   "cell_type": "code",
   "execution_count": 20,
   "id": "9aa43029",
   "metadata": {},
   "outputs": [
    {
     "data": {
      "text/plain": [
       "(1039, 3)"
      ]
     },
     "execution_count": 20,
     "metadata": {},
     "output_type": "execute_result"
    }
   ],
   "source": [
    "# Drop duplicate rows\n",
    "data2.drop_duplicates(keep='last', inplace=True) \n",
    "data2.reset_index(drop = True, inplace = True)\n",
    "data2.shape"
   ]
  },
  {
   "cell_type": "code",
   "execution_count": 21,
   "id": "fefc0382",
   "metadata": {},
   "outputs": [],
   "source": [
    "import warnings\n",
    "warnings.filterwarnings(\"ignore\")"
   ]
  },
  {
   "cell_type": "code",
   "execution_count": 22,
   "id": "af5bbe09",
   "metadata": {},
   "outputs": [],
   "source": [
    "data2['receive_date']= pd.to_datetime(data2['receive_date'])\n",
    "data1['date']=pd.to_datetime(data1['date'])\n"
   ]
  },
  {
   "cell_type": "code",
   "execution_count": 23,
   "id": "394e231f",
   "metadata": {},
   "outputs": [],
   "source": [
    "df_merged = pd.merge(data1, data2, on='item_number', how='outer')\n",
    "df_merged=df_merged.sort_values(by=['receive_date'],ascending=True,key=lambda x: x.astype(np.int64))"
   ]
  },
  {
   "cell_type": "code",
   "execution_count": 24,
   "id": "74f4f030",
   "metadata": {},
   "outputs": [],
   "source": [
    "pivot_table = df_merged.pivot_table(values='total_quantity', \n",
    "                             index='item_number', \n",
    "                             columns='receive_date', \n",
    "                             aggfunc='sum', \n",
    "                             fill_value=0)\n"
   ]
  },
  {
   "cell_type": "code",
   "execution_count": 25,
   "id": "4753643f",
   "metadata": {},
   "outputs": [
    {
     "data": {
      "text/html": [
       "<div>\n",
       "<style scoped>\n",
       "    .dataframe tbody tr th:only-of-type {\n",
       "        vertical-align: middle;\n",
       "    }\n",
       "\n",
       "    .dataframe tbody tr th {\n",
       "        vertical-align: top;\n",
       "    }\n",
       "\n",
       "    .dataframe thead th {\n",
       "        text-align: right;\n",
       "    }\n",
       "</style>\n",
       "<table border=\"1\" class=\"dataframe\">\n",
       "  <thead>\n",
       "    <tr style=\"text-align: right;\">\n",
       "      <th>receive_date</th>\n",
       "      <th>2023-07-07</th>\n",
       "      <th>2023-07-09</th>\n",
       "      <th>2023-07-10</th>\n",
       "      <th>2023-07-14</th>\n",
       "      <th>2023-07-21</th>\n",
       "      <th>2023-07-28</th>\n",
       "      <th>2023-08-04</th>\n",
       "      <th>2023-08-16</th>\n",
       "      <th>2023-08-18</th>\n",
       "      <th>2023-08-22</th>\n",
       "      <th>...</th>\n",
       "      <th>2023-09-22</th>\n",
       "      <th>2023-09-24</th>\n",
       "      <th>2023-09-29</th>\n",
       "      <th>2023-10-08</th>\n",
       "      <th>2023-10-13</th>\n",
       "      <th>2023-10-22</th>\n",
       "      <th>2023-11-26</th>\n",
       "      <th>2023-12-01</th>\n",
       "      <th>2023-12-08</th>\n",
       "      <th>2023-12-15</th>\n",
       "    </tr>\n",
       "    <tr>\n",
       "      <th>item_number</th>\n",
       "      <th></th>\n",
       "      <th></th>\n",
       "      <th></th>\n",
       "      <th></th>\n",
       "      <th></th>\n",
       "      <th></th>\n",
       "      <th></th>\n",
       "      <th></th>\n",
       "      <th></th>\n",
       "      <th></th>\n",
       "      <th></th>\n",
       "      <th></th>\n",
       "      <th></th>\n",
       "      <th></th>\n",
       "      <th></th>\n",
       "      <th></th>\n",
       "      <th></th>\n",
       "      <th></th>\n",
       "      <th></th>\n",
       "      <th></th>\n",
       "      <th></th>\n",
       "    </tr>\n",
       "  </thead>\n",
       "  <tbody>\n",
       "    <tr>\n",
       "      <th>064-01-0003</th>\n",
       "      <td>0</td>\n",
       "      <td>0</td>\n",
       "      <td>0</td>\n",
       "      <td>0</td>\n",
       "      <td>0</td>\n",
       "      <td>0</td>\n",
       "      <td>0</td>\n",
       "      <td>0</td>\n",
       "      <td>0</td>\n",
       "      <td>0</td>\n",
       "      <td>...</td>\n",
       "      <td>0</td>\n",
       "      <td>0</td>\n",
       "      <td>5488</td>\n",
       "      <td>0</td>\n",
       "      <td>1864</td>\n",
       "      <td>0</td>\n",
       "      <td>0</td>\n",
       "      <td>0</td>\n",
       "      <td>0</td>\n",
       "      <td>0</td>\n",
       "    </tr>\n",
       "    <tr>\n",
       "      <th>064-01-0005</th>\n",
       "      <td>0</td>\n",
       "      <td>0</td>\n",
       "      <td>0</td>\n",
       "      <td>0</td>\n",
       "      <td>0</td>\n",
       "      <td>0</td>\n",
       "      <td>0</td>\n",
       "      <td>0</td>\n",
       "      <td>0</td>\n",
       "      <td>0</td>\n",
       "      <td>...</td>\n",
       "      <td>0</td>\n",
       "      <td>0</td>\n",
       "      <td>7380</td>\n",
       "      <td>0</td>\n",
       "      <td>2520</td>\n",
       "      <td>0</td>\n",
       "      <td>0</td>\n",
       "      <td>0</td>\n",
       "      <td>0</td>\n",
       "      <td>0</td>\n",
       "    </tr>\n",
       "    <tr>\n",
       "      <th>064-01-0012</th>\n",
       "      <td>0</td>\n",
       "      <td>0</td>\n",
       "      <td>0</td>\n",
       "      <td>0</td>\n",
       "      <td>0</td>\n",
       "      <td>0</td>\n",
       "      <td>0</td>\n",
       "      <td>0</td>\n",
       "      <td>0</td>\n",
       "      <td>0</td>\n",
       "      <td>...</td>\n",
       "      <td>0</td>\n",
       "      <td>0</td>\n",
       "      <td>6840</td>\n",
       "      <td>0</td>\n",
       "      <td>3244</td>\n",
       "      <td>0</td>\n",
       "      <td>0</td>\n",
       "      <td>0</td>\n",
       "      <td>0</td>\n",
       "      <td>0</td>\n",
       "    </tr>\n",
       "    <tr>\n",
       "      <th>064-01-0013</th>\n",
       "      <td>0</td>\n",
       "      <td>0</td>\n",
       "      <td>0</td>\n",
       "      <td>0</td>\n",
       "      <td>0</td>\n",
       "      <td>0</td>\n",
       "      <td>0</td>\n",
       "      <td>0</td>\n",
       "      <td>0</td>\n",
       "      <td>0</td>\n",
       "      <td>...</td>\n",
       "      <td>0</td>\n",
       "      <td>0</td>\n",
       "      <td>6300</td>\n",
       "      <td>0</td>\n",
       "      <td>1748</td>\n",
       "      <td>0</td>\n",
       "      <td>0</td>\n",
       "      <td>0</td>\n",
       "      <td>0</td>\n",
       "      <td>0</td>\n",
       "    </tr>\n",
       "    <tr>\n",
       "      <th>064-01-0016</th>\n",
       "      <td>0</td>\n",
       "      <td>0</td>\n",
       "      <td>0</td>\n",
       "      <td>0</td>\n",
       "      <td>0</td>\n",
       "      <td>0</td>\n",
       "      <td>0</td>\n",
       "      <td>0</td>\n",
       "      <td>0</td>\n",
       "      <td>0</td>\n",
       "      <td>...</td>\n",
       "      <td>0</td>\n",
       "      <td>0</td>\n",
       "      <td>6028</td>\n",
       "      <td>0</td>\n",
       "      <td>1608</td>\n",
       "      <td>0</td>\n",
       "      <td>0</td>\n",
       "      <td>0</td>\n",
       "      <td>0</td>\n",
       "      <td>0</td>\n",
       "    </tr>\n",
       "    <tr>\n",
       "      <th>064-01-0017</th>\n",
       "      <td>0</td>\n",
       "      <td>0</td>\n",
       "      <td>0</td>\n",
       "      <td>0</td>\n",
       "      <td>0</td>\n",
       "      <td>0</td>\n",
       "      <td>0</td>\n",
       "      <td>0</td>\n",
       "      <td>0</td>\n",
       "      <td>0</td>\n",
       "      <td>...</td>\n",
       "      <td>0</td>\n",
       "      <td>0</td>\n",
       "      <td>5220</td>\n",
       "      <td>0</td>\n",
       "      <td>916</td>\n",
       "      <td>0</td>\n",
       "      <td>0</td>\n",
       "      <td>0</td>\n",
       "      <td>0</td>\n",
       "      <td>0</td>\n",
       "    </tr>\n",
       "    <tr>\n",
       "      <th>064-01-0018</th>\n",
       "      <td>0</td>\n",
       "      <td>0</td>\n",
       "      <td>0</td>\n",
       "      <td>0</td>\n",
       "      <td>0</td>\n",
       "      <td>0</td>\n",
       "      <td>0</td>\n",
       "      <td>0</td>\n",
       "      <td>0</td>\n",
       "      <td>0</td>\n",
       "      <td>...</td>\n",
       "      <td>0</td>\n",
       "      <td>0</td>\n",
       "      <td>5760</td>\n",
       "      <td>0</td>\n",
       "      <td>2164</td>\n",
       "      <td>0</td>\n",
       "      <td>0</td>\n",
       "      <td>0</td>\n",
       "      <td>0</td>\n",
       "      <td>0</td>\n",
       "    </tr>\n",
       "    <tr>\n",
       "      <th>064-01-0019</th>\n",
       "      <td>0</td>\n",
       "      <td>0</td>\n",
       "      <td>0</td>\n",
       "      <td>0</td>\n",
       "      <td>0</td>\n",
       "      <td>0</td>\n",
       "      <td>0</td>\n",
       "      <td>0</td>\n",
       "      <td>0</td>\n",
       "      <td>0</td>\n",
       "      <td>...</td>\n",
       "      <td>0</td>\n",
       "      <td>0</td>\n",
       "      <td>7648</td>\n",
       "      <td>0</td>\n",
       "      <td>4056</td>\n",
       "      <td>0</td>\n",
       "      <td>0</td>\n",
       "      <td>0</td>\n",
       "      <td>0</td>\n",
       "      <td>0</td>\n",
       "    </tr>\n",
       "    <tr>\n",
       "      <th>064-01-0035</th>\n",
       "      <td>0</td>\n",
       "      <td>0</td>\n",
       "      <td>0</td>\n",
       "      <td>0</td>\n",
       "      <td>0</td>\n",
       "      <td>0</td>\n",
       "      <td>0</td>\n",
       "      <td>0</td>\n",
       "      <td>0</td>\n",
       "      <td>0</td>\n",
       "      <td>...</td>\n",
       "      <td>0</td>\n",
       "      <td>0</td>\n",
       "      <td>5488</td>\n",
       "      <td>0</td>\n",
       "      <td>1864</td>\n",
       "      <td>0</td>\n",
       "      <td>0</td>\n",
       "      <td>0</td>\n",
       "      <td>0</td>\n",
       "      <td>0</td>\n",
       "    </tr>\n",
       "    <tr>\n",
       "      <th>064-01-0092</th>\n",
       "      <td>0</td>\n",
       "      <td>0</td>\n",
       "      <td>0</td>\n",
       "      <td>0</td>\n",
       "      <td>0</td>\n",
       "      <td>0</td>\n",
       "      <td>0</td>\n",
       "      <td>0</td>\n",
       "      <td>0</td>\n",
       "      <td>0</td>\n",
       "      <td>...</td>\n",
       "      <td>0</td>\n",
       "      <td>0</td>\n",
       "      <td>4948</td>\n",
       "      <td>0</td>\n",
       "      <td>872</td>\n",
       "      <td>0</td>\n",
       "      <td>0</td>\n",
       "      <td>0</td>\n",
       "      <td>0</td>\n",
       "      <td>0</td>\n",
       "    </tr>\n",
       "  </tbody>\n",
       "</table>\n",
       "<p>10 rows × 23 columns</p>\n",
       "</div>"
      ],
      "text/plain": [
       "receive_date  2023-07-07  2023-07-09  2023-07-10  2023-07-14  2023-07-21  \\\n",
       "item_number                                                                \n",
       "064-01-0003            0           0           0           0           0   \n",
       "064-01-0005            0           0           0           0           0   \n",
       "064-01-0012            0           0           0           0           0   \n",
       "064-01-0013            0           0           0           0           0   \n",
       "064-01-0016            0           0           0           0           0   \n",
       "064-01-0017            0           0           0           0           0   \n",
       "064-01-0018            0           0           0           0           0   \n",
       "064-01-0019            0           0           0           0           0   \n",
       "064-01-0035            0           0           0           0           0   \n",
       "064-01-0092            0           0           0           0           0   \n",
       "\n",
       "receive_date  2023-07-28  2023-08-04  2023-08-16  2023-08-18  2023-08-22  ...  \\\n",
       "item_number                                                               ...   \n",
       "064-01-0003            0           0           0           0           0  ...   \n",
       "064-01-0005            0           0           0           0           0  ...   \n",
       "064-01-0012            0           0           0           0           0  ...   \n",
       "064-01-0013            0           0           0           0           0  ...   \n",
       "064-01-0016            0           0           0           0           0  ...   \n",
       "064-01-0017            0           0           0           0           0  ...   \n",
       "064-01-0018            0           0           0           0           0  ...   \n",
       "064-01-0019            0           0           0           0           0  ...   \n",
       "064-01-0035            0           0           0           0           0  ...   \n",
       "064-01-0092            0           0           0           0           0  ...   \n",
       "\n",
       "receive_date  2023-09-22  2023-09-24  2023-09-29  2023-10-08  2023-10-13  \\\n",
       "item_number                                                                \n",
       "064-01-0003            0           0        5488           0        1864   \n",
       "064-01-0005            0           0        7380           0        2520   \n",
       "064-01-0012            0           0        6840           0        3244   \n",
       "064-01-0013            0           0        6300           0        1748   \n",
       "064-01-0016            0           0        6028           0        1608   \n",
       "064-01-0017            0           0        5220           0         916   \n",
       "064-01-0018            0           0        5760           0        2164   \n",
       "064-01-0019            0           0        7648           0        4056   \n",
       "064-01-0035            0           0        5488           0        1864   \n",
       "064-01-0092            0           0        4948           0         872   \n",
       "\n",
       "receive_date  2023-10-22  2023-11-26  2023-12-01  2023-12-08  2023-12-15  \n",
       "item_number                                                               \n",
       "064-01-0003            0           0           0           0           0  \n",
       "064-01-0005            0           0           0           0           0  \n",
       "064-01-0012            0           0           0           0           0  \n",
       "064-01-0013            0           0           0           0           0  \n",
       "064-01-0016            0           0           0           0           0  \n",
       "064-01-0017            0           0           0           0           0  \n",
       "064-01-0018            0           0           0           0           0  \n",
       "064-01-0019            0           0           0           0           0  \n",
       "064-01-0035            0           0           0           0           0  \n",
       "064-01-0092            0           0           0           0           0  \n",
       "\n",
       "[10 rows x 23 columns]"
      ]
     },
     "execution_count": 25,
     "metadata": {},
     "output_type": "execute_result"
    }
   ],
   "source": [
    "pivot_table.head(10)"
   ]
  },
  {
   "cell_type": "code",
   "execution_count": 26,
   "id": "b8d74435",
   "metadata": {},
   "outputs": [],
   "source": [
    "for item_num,row in pivot_table.iterrows():\n",
    "    try:\n",
    "        on_stock =data1[data1['item_number'] == item_num]['inventory']\n",
    "        on_stock=int(on_stock)\n",
    "    except:\n",
    "        on_stock=0\n",
    "\n",
    "    for k in pivot_table.columns:\n",
    "        on_stock=on_stock+row[k]\n",
    "        row[k]=on_stock"
   ]
  },
  {
   "cell_type": "code",
   "execution_count": 27,
   "id": "c028757f",
   "metadata": {},
   "outputs": [
    {
     "data": {
      "text/plain": [
       "Index(['item_number', 'date', 'inventory', 'receive_date', 'total_quantity'], dtype='object')"
      ]
     },
     "execution_count": 27,
     "metadata": {},
     "output_type": "execute_result"
    }
   ],
   "source": [
    "df_merged.columns"
   ]
  },
  {
   "cell_type": "code",
   "execution_count": 28,
   "id": "e9919390",
   "metadata": {},
   "outputs": [],
   "source": [
    "df_merged[\"Month\"]=df_merged['receive_date'].dt.month"
   ]
  },
  {
   "cell_type": "code",
   "execution_count": 29,
   "id": "bfd7bafa",
   "metadata": {},
   "outputs": [],
   "source": [
    "month_total=df_merged.groupby('Month')['total_quantity'].sum()"
   ]
  },
  {
   "cell_type": "code",
   "execution_count": 30,
   "id": "65e7c294",
   "metadata": {},
   "outputs": [],
   "source": [
    "Inventory_sum=data1['inventory'].sum()\n",
    "month_total[7]=Inventory_sum\n",
    "month_total=month_total.sort_index(ascending=True)\n",
    "month_total=pd.DataFrame(month_total)"
   ]
  },
  {
   "cell_type": "code",
   "execution_count": 31,
   "id": "e4edca23",
   "metadata": {},
   "outputs": [],
   "source": [
    "item_received=month_total"
   ]
  },
  {
   "cell_type": "code",
   "execution_count": 32,
   "id": "7d6fd23d",
   "metadata": {},
   "outputs": [],
   "source": [
    "month_names = [calendar.month_name[i] for i in range(7, 13)]"
   ]
  },
  {
   "cell_type": "code",
   "execution_count": 33,
   "id": "721e46a9",
   "metadata": {},
   "outputs": [],
   "source": [
    "for x in range(8, 7 + len(month_total['total_quantity'])):\n",
    "    month_total.loc[x, 'total_quantity'] = month_total.loc[x - 1, 'total_quantity'] + month_total.loc[x, 'total_quantity']"
   ]
  },
  {
   "cell_type": "code",
   "execution_count": 34,
   "id": "53be4283",
   "metadata": {},
   "outputs": [
    {
     "data": {
      "image/png": "[encoded data removed]",
      "text/plain": [
       "<Figure size 800x500 with 1 Axes>"
      ]
     },
     "metadata": {},
     "output_type": "display_data"
    }
   ],
   "source": [
    "plt.figure(figsize=(8, 5))\n",
    "sns.barplot(x=month_names, y=month_total['total_quantity'])\n",
    "\n",
    "plt.xlabel('Month')\n",
    "plt.ylabel('total_quantity')\n",
    "plt.title('Total Item Qty in Inventory for Each Month')\n",
    "plt.show()"
   ]
  },
  {
   "cell_type": "code",
   "execution_count": 35,
   "id": "17270bc2",
   "metadata": {},
   "outputs": [
    {
     "data": {
      "text/plain": [
       "[698592.0, 726094.0, 670252.0, 303826.0, 24848.0, 63172.0]"
      ]
     },
     "execution_count": 35,
     "metadata": {},
     "output_type": "execute_result"
    }
   ],
   "source": [
    "received=df_merged.groupby('Month')['total_quantity'].sum().values\n",
    "received=list(recived)\n",
    "received"
   ]
  },
  {
   "cell_type": "code",
   "execution_count": 36,
   "id": "d15ca007",
   "metadata": {},
   "outputs": [
    {
     "data": {
      "image/png": "[encoded data removed]",
      "text/plain": [
       "<Figure size 1400x500 with 2 Axes>"
      ]
     },
     "metadata": {},
     "output_type": "display_data"
    }
   ],
   "source": [
    "fig, axs = plt.subplots(nrows=1, ncols=2, figsize=(14, 5))\n",
    "\n",
    "# Line plot\n",
    "axs[0].plot(month_names, received, marker='o', color='blue', label='Received')\n",
    "axs[0].set_title('Total Item Qty Received to Inventory in Each Month')\n",
    "axs[0].set_xlabel('Month')\n",
    "axs[0].set_ylabel('Total Item Received (in Lakhs)')\n",
    "axs[0].grid(True)\n",
    "axs[0].legend()\n",
    "\n",
    "# Bar plot\n",
    "axs[1].bar(month_names, month_total['total_quantity'], color='#346888', label='Inventory')\n",
    "axs[1].set_title('Total Item Qty in Inventory for Each Month')\n",
    "axs[1].set_xlabel('Month')\n",
    "axs[1].set_ylabel('Total Item Qty (in Lakhs)')\n",
    "#axs[1].grid(True)\n",
    "axs[1].legend()\n",
    "\n",
    "\n",
    "plt.tight_layout()\n",
    "\n",
    "# Show the plots\n",
    "plt.show()"
   ]
  },
  {
   "cell_type": "markdown",
   "id": "30f6774c",
   "metadata": {},
   "source": [
    "Their interpretation provides valuable insight into inventory trends \n",
    "throughout the year. The observation that inventory additions are high in \n",
    "October-November and that inventory levels are at their lowest in July \n",
    "indicates that there may be a seasonality or pattern in inventory management. "
   ]
  },
  {
   "cell_type": "code",
   "execution_count": null,
   "id": "d48eb1d4",
   "metadata": {},
   "outputs": [],
   "source": []
  }
 ],
 "metadata": {
  "kernelspec": {
   "display_name": "Python 3 (ipykernel)",
   "language": "python",
   "name": "python3"
  },
  "language_info": {
   "codemirror_mode": {
    "name": "ipython",
    "version": 3
   },
   "file_extension": ".py",
   "mimetype": "text/x-python",
   "name": "python",
   "nbconvert_exporter": "python",
   "pygments_lexer": "ipython3",
   "version": "3.9.13"
  }
 },
 "nbformat": 4,
 "nbformat_minor": 5
}
